{
 "cells": [
  {
   "cell_type": "code",
   "execution_count": 1,
   "metadata": {},
   "outputs": [],
   "source": [
    "import numpy as np"
   ]
  },
  {
   "cell_type": "code",
   "execution_count": 4,
   "metadata": {},
   "outputs": [],
   "source": [
    "import importlib\n",
    "import dataImportFuctions\n",
    "\n",
    "importlib.reload(dataImportFuctions)\n",
    "from dataImportFuctions import main_data_dic_generator"
   ]
  },
  {
   "cell_type": "code",
   "execution_count": null,
   "metadata": {},
   "outputs": [],
   "source": []
  },
  {
   "cell_type": "markdown",
   "metadata": {},
   "source": [
    "## imprting all data of controls and patients for both parcellations"
   ]
  },
  {
   "cell_type": "code",
   "execution_count": 1,
   "metadata": {},
   "outputs": [],
   "source": [
    "#for controls\n",
    "controls_base_dir = '/Users/user/Int Dim NF1 WM/controls Schaeffer300_AAL3_timeseries_00301_Run1'\n",
    "controls_file_pattern = 'Schaeffer300_AAL3_timeseries_{:03d}_Run1.mat'  # {:03d} will be replaced by numbers with leading zeros\n",
    "#controls_index_list= [3,4,6,7,8,10,11,12,13,14,15,17,18,19]\n",
    "controls_index_list= [1,2,3,4,6,7,8,10,11,12,13,14,15,17,18,19] #the original\n",
    "N_c= len(controls_index_list)\n",
    "\n",
    "#for patients\n",
    "patients_base_dir = '/Users/user/Int Dim NF1 WM/patients Schaeffer300_AAL3_timeseries_00301_Run1'\n",
    "patients_file_pattern = 'Schaeffer300_AAL3_timeseries_{:03d}01_Run1.mat'\n",
    "#patients_index_list= [3,4,5,6,7,8,11,12,13,14,15,16,17,18,19,21,22,23,24,25,26,27,29,30,32,33]\n",
    "patients_index_list= [1,2,3,4,5,6,7,8,11,12,13,14,15,16,17,18,19,21,22,23,24,25,26,27,29,30,32,33] #the original\n",
    "N_p= len(patients_index_list)"
   ]
  },
  {
   "cell_type": "code",
   "execution_count": 5,
   "metadata": {},
   "outputs": [
    {
     "name": "stdout",
     "output_type": "stream",
     "text": [
      "dict_keys(['__header__', '__version__', '__globals__', 'AAL3', 'Schaeffer_300'])\n",
      "key=  001\n",
      "(144, 166)\n",
      "dict_keys(['__header__', '__version__', '__globals__', 'AAL3', 'Schaeffer_300'])\n",
      "key=  002\n",
      "(144, 166)\n",
      "dict_keys(['__header__', '__version__', '__globals__', 'AAL3', 'Schaeffer_300'])\n",
      "key=  003\n",
      "(144, 166)\n",
      "dict_keys(['__header__', '__version__', '__globals__', 'AAL3', 'Schaeffer_300'])\n",
      "key=  004\n",
      "(144, 166)\n",
      "dict_keys(['__header__', '__version__', '__globals__', 'AAL3', 'Schaeffer_300'])\n",
      "key=  006\n",
      "(144, 166)\n",
      "dict_keys(['__header__', '__version__', '__globals__', 'AAL3', 'Schaeffer_300'])\n",
      "key=  007\n",
      "(144, 166)\n",
      "dict_keys(['__header__', '__version__', '__globals__', 'AAL3', 'Schaeffer_300'])\n",
      "key=  008\n",
      "(144, 166)\n",
      "dict_keys(['__header__', '__version__', '__globals__', 'AAL3', 'Schaeffer_300'])\n",
      "key=  010\n",
      "(144, 166)\n",
      "dict_keys(['__header__', '__version__', '__globals__', 'AAL3', 'Schaeffer_300'])\n",
      "key=  011\n",
      "(144, 166)\n",
      "dict_keys(['__header__', '__version__', '__globals__', 'AAL3', 'Schaeffer_300'])\n",
      "key=  012\n",
      "(144, 166)\n",
      "dict_keys(['__header__', '__version__', '__globals__', 'AAL3', 'Schaeffer_300'])\n",
      "key=  013\n",
      "(144, 166)\n",
      "dict_keys(['__header__', '__version__', '__globals__', 'AAL3', 'Schaeffer_300'])\n",
      "key=  014\n",
      "(144, 166)\n",
      "dict_keys(['__header__', '__version__', '__globals__', 'AAL3', 'Schaeffer_300'])\n",
      "key=  015\n",
      "(144, 166)\n",
      "dict_keys(['__header__', '__version__', '__globals__', 'AAL3', 'Schaeffer_300'])\n",
      "key=  017\n",
      "(144, 166)\n",
      "dict_keys(['__header__', '__version__', '__globals__', 'AAL3', 'Schaeffer_300'])\n",
      "key=  018\n",
      "(144, 166)\n",
      "dict_keys(['__header__', '__version__', '__globals__', 'AAL3', 'Schaeffer_300'])\n",
      "key=  019\n",
      "(144, 166)\n",
      "001: shape = (144, 166)\n",
      "002: shape = (144, 166)\n",
      "003: shape = (144, 166)\n",
      "004: shape = (144, 166)\n",
      "006: shape = (144, 166)\n",
      "007: shape = (144, 166)\n",
      "008: shape = (144, 166)\n",
      "010: shape = (144, 166)\n",
      "011: shape = (144, 166)\n",
      "012: shape = (144, 166)\n",
      "013: shape = (144, 166)\n",
      "014: shape = (144, 166)\n",
      "015: shape = (144, 166)\n",
      "017: shape = (144, 166)\n",
      "018: shape = (144, 166)\n",
      "019: shape = (144, 166)\n"
     ]
    }
   ],
   "source": [
    "#controls\n",
    "#AAL3\n",
    "controls_AAL3_main_dic= main_data_dic_generator(controls_base_dir,\n",
    "                                           controls_file_pattern, \n",
    "                                           controls_index_list,\n",
    "                                           'AAL3',\n",
    "                                           True) #print_bool\n",
    "#Schaeffer300                     \n",
    "controls_Schaeffer300_main_dic= main_data_dic_generator(controls_base_dir,\n",
    "                                           controls_file_pattern, \n",
    "                                           controls_index_list,\n",
    "                                           'Schaeffer300',\n",
    "                                           False) #print_bool\n",
    "\n",
    "#patients\n",
    "#AAL3\n",
    "patients_AAL3_main_dic= main_data_dic_generator(patients_base_dir,\n",
    "                                           patients_file_pattern, \n",
    "                                           patients_index_list,\n",
    "                                           'AAL3',\n",
    "                                           False) #print_bool\n",
    "#Schaeffer300                                           \n",
    "patients_Schaeffer300_main_dic= main_data_dic_generator(patients_base_dir,\n",
    "                                           patients_file_pattern, \n",
    "                                           patients_index_list,\n",
    "                                           'Schaeffer300',\n",
    "                                           False) #print_bool                                    "
   ]
  },
  {
   "cell_type": "code",
   "execution_count": null,
   "metadata": {},
   "outputs": [],
   "source": []
  }
 ],
 "metadata": {
  "kernelspec": {
   "display_name": "venv",
   "language": "python",
   "name": "python3"
  },
  "language_info": {
   "codemirror_mode": {
    "name": "ipython",
    "version": 3
   },
   "file_extension": ".py",
   "mimetype": "text/x-python",
   "name": "python",
   "nbconvert_exporter": "python",
   "pygments_lexer": "ipython3",
   "version": "3.12.3"
  }
 },
 "nbformat": 4,
 "nbformat_minor": 2
}
