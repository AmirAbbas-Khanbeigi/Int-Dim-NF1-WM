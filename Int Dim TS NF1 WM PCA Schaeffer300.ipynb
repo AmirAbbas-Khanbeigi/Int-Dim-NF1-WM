{
 "cells": [
  {
   "cell_type": "code",
   "execution_count": 1,
   "metadata": {},
   "outputs": [],
   "source": [
    "import numpy as np"
   ]
  },
  {
   "cell_type": "code",
   "execution_count": 16,
   "metadata": {},
   "outputs": [],
   "source": [
    "import importlib\n",
    "import dataImportFuctions\n",
    "\n",
    "importlib.reload(dataImportFuctions)\n",
    "from dataImportFuctions import main_data_dic_generator\n",
    "from dataImportFuctions import TS_extractor\n",
    "from dataImportFuctions import TS_extractor_v2"
   ]
  },
  {
   "cell_type": "code",
   "execution_count": null,
   "metadata": {},
   "outputs": [],
   "source": []
  },
  {
   "cell_type": "markdown",
   "metadata": {},
   "source": [
    "## imprting all data of controls and patients for both parcellations"
   ]
  },
  {
   "cell_type": "code",
   "execution_count": 1,
   "metadata": {},
   "outputs": [],
   "source": [
    "#for controls\n",
    "controls_base_dir = '/Users/user/Int Dim NF1 WM/controls Schaeffer300_AAL3_timeseries_00301_Run1'\n",
    "controls_file_pattern = 'Schaeffer300_AAL3_timeseries_{:03d}_Run1.mat'  # {:03d} will be replaced by numbers with leading zeros\n",
    "#controls_index_list= [3,4,6,7,8,10,11,12,13,14,15,17,18,19]\n",
    "controls_index_list= [1,2,3,4,6,7,8,10,11,12,13,14,15,17,18,19] #the original\n",
    "N_c= len(controls_index_list)\n",
    "\n",
    "#for patients\n",
    "patients_base_dir = '/Users/user/Int Dim NF1 WM/patients Schaeffer300_AAL3_timeseries_00301_Run1'\n",
    "patients_file_pattern = 'Schaeffer300_AAL3_timeseries_{:03d}01_Run1.mat'\n",
    "#patients_index_list= [3,4,5,6,7,8,11,12,13,14,15,16,17,18,19,21,22,23,24,25,26,27,29,30,32,33]\n",
    "patients_index_list= [1,2,3,4,5,6,7,8,11,12,13,14,15,16,17,18,19,21,22,23,24,25,26,27,29,30,32,33] #the original\n",
    "N_p= len(patients_index_list)"
   ]
  },
  {
   "cell_type": "code",
   "execution_count": 6,
   "metadata": {},
   "outputs": [],
   "source": [
    "#controls\n",
    "#AAL3\n",
    "controls_AAL3_main_dic= main_data_dic_generator(controls_base_dir,\n",
    "                                           controls_file_pattern, \n",
    "                                           controls_index_list,\n",
    "                                           'AAL3',\n",
    "                                           False) #print_bool\n",
    "#Schaeffer300                     \n",
    "controls_Schaeffer300_main_dic= main_data_dic_generator(controls_base_dir,\n",
    "                                           controls_file_pattern, \n",
    "                                           controls_index_list,\n",
    "                                           'Schaeffer300',\n",
    "                                           False) #print_bool\n",
    "\n",
    "#patients\n",
    "#AAL3\n",
    "patients_AAL3_main_dic= main_data_dic_generator(patients_base_dir,\n",
    "                                           patients_file_pattern, \n",
    "                                           patients_index_list,\n",
    "                                           'AAL3',\n",
    "                                           False) #print_bool\n",
    "#Schaeffer300                                           \n",
    "patients_Schaeffer300_main_dic= main_data_dic_generator(patients_base_dir,\n",
    "                                           patients_file_pattern, \n",
    "                                           patients_index_list,\n",
    "                                           'Schaeffer300',\n",
    "                                           False) #print_bool                                    "
   ]
  },
  {
   "cell_type": "code",
   "execution_count": null,
   "metadata": {},
   "outputs": [
    {
     "name": "stdout",
     "output_type": "stream",
     "text": [
      "dict_keys(['001', '002', '003', '004', '006', '007', '008', '010', '011', '012', '013', '014', '015', '017', '018', '019'])\n",
      "(144, 166)\n"
     ]
    }
   ],
   "source": [
    "# print(controls_AAL3_main_dic.keys())\n",
    "# print(controls_AAL3_main_dic['001'].shape)"
   ]
  },
  {
   "cell_type": "code",
   "execution_count": 18,
   "metadata": {},
   "outputs": [
    {
     "name": "stdout",
     "output_type": "stream",
     "text": [
      "main_data_dic[001].shape=  (144, 166)  with the key as  001\n",
      "main_data_dic[002].shape=  (144, 166)  with the key as  002\n",
      "main_data_dic[003].shape=  (144, 166)  with the key as  003\n",
      "main_data_dic[004].shape=  (144, 166)  with the key as  004\n",
      "main_data_dic[006].shape=  (144, 166)  with the key as  006\n",
      "main_data_dic[007].shape=  (144, 166)  with the key as  007\n",
      "main_data_dic[008].shape=  (144, 166)  with the key as  008\n",
      "main_data_dic[010].shape=  (144, 166)  with the key as  010\n",
      "main_data_dic[011].shape=  (144, 166)  with the key as  011\n",
      "main_data_dic[012].shape=  (144, 166)  with the key as  012\n",
      "main_data_dic[013].shape=  (144, 166)  with the key as  013\n",
      "main_data_dic[014].shape=  (144, 166)  with the key as  014\n",
      "main_data_dic[015].shape=  (144, 166)  with the key as  015\n",
      "main_data_dic[017].shape=  (144, 166)  with the key as  017\n",
      "main_data_dic[018].shape=  (144, 166)  with the key as  018\n",
      "main_data_dic[019].shape=  (144, 166)  with the key as  019\n"
     ]
    }
   ],
   "source": [
    "#controls\n",
    "#AAL3\n",
    "controls_AAL3_dic_2back_TSs, controls_AAL3_dic_0back_TSs, controls_AAL3_dic_entire_TSs = TS_extractor_v2(controls_AAL3_main_dic,\n",
    "                controls_index_list, \n",
    "                True) #print_bool\n",
    "#Schaeffer300  \n",
    "controls_Schaeffer300_dic_2back_TSs, controls_Schaeffer300_dic_0back_TSs, controls_Schaeffer300_dic_entire_TSs = TS_extractor_v2(controls_Schaeffer300_main_dic,\n",
    "                controls_index_list, \n",
    "                False) #print_bool\n",
    "\n",
    "#patients\n",
    "#AAL3\n",
    "patients_AAL3_dic_2back_TSs, patients_AAL3_dic_0back_TSs, patients_AAL3_dic_entire_TSs = TS_extractor_v2(patients_AAL3_main_dic,\n",
    "                patients_index_list, \n",
    "                False) #print_bool\n",
    "#Schaeffer300  \n",
    "patients_Schaeffer300_dic_2back_TSs, patients_Schaeffer300_dic_0back_TSs, patients_Schaeffer300_dic_entire_TSs = TS_extractor_v2(patients_Schaeffer300_main_dic,\n",
    "                patients_index_list, \n",
    "                False) #print_bool"
   ]
  },
  {
   "cell_type": "code",
   "execution_count": null,
   "metadata": {},
   "outputs": [],
   "source": []
  }
 ],
 "metadata": {
  "kernelspec": {
   "display_name": "venv",
   "language": "python",
   "name": "python3"
  },
  "language_info": {
   "codemirror_mode": {
    "name": "ipython",
    "version": 3
   },
   "file_extension": ".py",
   "mimetype": "text/x-python",
   "name": "python",
   "nbconvert_exporter": "python",
   "pygments_lexer": "ipython3",
   "version": "3.12.3"
  }
 },
 "nbformat": 4,
 "nbformat_minor": 2
}
