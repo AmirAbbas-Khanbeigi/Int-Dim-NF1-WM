{
 "cells": [
  {
   "cell_type": "code",
   "execution_count": 31,
   "metadata": {},
   "outputs": [],
   "source": [
    "import numpy as np"
   ]
  },
  {
   "cell_type": "code",
   "execution_count": 42,
   "metadata": {},
   "outputs": [],
   "source": [
    "import importlib\n",
    "import dataImportFuctions\n",
    "import functions\n",
    "\n",
    "importlib.reload(dataImportFuctions)\n",
    "from dataImportFuctions import main_data_dic_generator\n",
    "from dataImportFuctions import TS_extractor\n",
    "from dataImportFuctions import TS_extractor_v2\n",
    "from dataImportFuctions import TS_dic_to_NLDR_format\n",
    "\n",
    "importlib.reload(functions)\n",
    "from functions import estimate_global_dimension_pca\n",
    "from functions import dictionary_random_reducer\n",
    "from functions import mannwhitneyu_stat"
   ]
  },
  {
   "cell_type": "code",
   "execution_count": null,
   "metadata": {},
   "outputs": [],
   "source": []
  },
  {
   "cell_type": "markdown",
   "metadata": {},
   "source": [
    "## imprting all data of controls and patients for both parcellations"
   ]
  },
  {
   "cell_type": "code",
   "execution_count": 1,
   "metadata": {},
   "outputs": [],
   "source": [
    "#for controls\n",
    "controls_base_dir = '/Users/user/Int Dim NF1 WM/controls Schaeffer300_AAL3_timeseries_00301_Run1'\n",
    "controls_file_pattern = 'Schaeffer300_AAL3_timeseries_{:03d}_Run1.mat'  # {:03d} will be replaced by numbers with leading zeros\n",
    "#controls_index_list= [3,4,6,7,8,10,11,12,13,14,15,17,18,19]\n",
    "controls_index_list= [1,2,3,4,6,7,8,10,11,12,13,14,15,17,18,19] #the original\n",
    "N_c= len(controls_index_list)\n",
    "\n",
    "#for patients\n",
    "patients_base_dir = '/Users/user/Int Dim NF1 WM/patients Schaeffer300_AAL3_timeseries_00301_Run1'\n",
    "patients_file_pattern = 'Schaeffer300_AAL3_timeseries_{:03d}01_Run1.mat'\n",
    "#patients_index_list= [3,4,5,6,7,8,11,12,13,14,15,16,17,18,19,21,22,23,24,25,26,27,29,30,32,33]\n",
    "patients_index_list= [1,2,3,4,5,6,7,8,11,12,13,14,15,16,17,18,19,21,22,23,24,25,26,27,29,30,32,33] #the original\n",
    "N_p= len(patients_index_list)"
   ]
  },
  {
   "cell_type": "code",
   "execution_count": 6,
   "metadata": {},
   "outputs": [],
   "source": [
    "#controls\n",
    "#AAL3\n",
    "controls_AAL3_main_dic= main_data_dic_generator(controls_base_dir,\n",
    "                                           controls_file_pattern, \n",
    "                                           controls_index_list,\n",
    "                                           'AAL3',\n",
    "                                           False) #print_bool\n",
    "#Schaeffer300                     \n",
    "controls_Schaeffer300_main_dic= main_data_dic_generator(controls_base_dir,\n",
    "                                           controls_file_pattern, \n",
    "                                           controls_index_list,\n",
    "                                           'Schaeffer300',\n",
    "                                           False) #print_bool\n",
    "\n",
    "#patients\n",
    "#AAL3\n",
    "patients_AAL3_main_dic= main_data_dic_generator(patients_base_dir,\n",
    "                                           patients_file_pattern, \n",
    "                                           patients_index_list,\n",
    "                                           'AAL3',\n",
    "                                           False) #print_bool\n",
    "#Schaeffer300                                           \n",
    "patients_Schaeffer300_main_dic= main_data_dic_generator(patients_base_dir,\n",
    "                                           patients_file_pattern, \n",
    "                                           patients_index_list,\n",
    "                                           'Schaeffer300',\n",
    "                                           False) #print_bool                                    "
   ]
  },
  {
   "cell_type": "code",
   "execution_count": null,
   "metadata": {},
   "outputs": [
    {
     "name": "stdout",
     "output_type": "stream",
     "text": [
      "dict_keys(['001', '002', '003', '004', '006', '007', '008', '010', '011', '012', '013', '014', '015', '017', '018', '019'])\n",
      "(144, 166)\n"
     ]
    }
   ],
   "source": [
    "# print(controls_AAL3_main_dic.keys())\n",
    "# print(controls_AAL3_main_dic['001'].shape)"
   ]
  },
  {
   "cell_type": "code",
   "execution_count": 22,
   "metadata": {},
   "outputs": [],
   "source": [
    "#controls\n",
    "#AAL3\n",
    "controls_AAL3_dic_2back_TSs, controls_AAL3_dic_0back_TSs, controls_AAL3_dic_entire_TSs = TS_extractor_v2(controls_AAL3_main_dic, \n",
    "                False) #print_bool\n",
    "#Schaeffer300  \n",
    "controls_Schaeffer300_dic_2back_TSs, controls_Schaeffer300_dic_0back_TSs, controls_Schaeffer300_dic_entire_TSs = TS_extractor_v2(controls_Schaeffer300_main_dic,\n",
    "                False) #print_bool\n",
    "\n",
    "#patients\n",
    "#AAL3\n",
    "patients_AAL3_dic_2back_TSs, patients_AAL3_dic_0back_TSs, patients_AAL3_dic_entire_TSs = TS_extractor_v2(patients_AAL3_main_dic,\n",
    "                False) #print_bool\n",
    "#Schaeffer300  \n",
    "patients_Schaeffer300_dic_2back_TSs, patients_Schaeffer300_dic_0back_TSs, patients_Schaeffer300_dic_entire_TSs = TS_extractor_v2(patients_Schaeffer300_main_dic,\n",
    "                False) #print_bool"
   ]
  },
  {
   "cell_type": "code",
   "execution_count": 23,
   "metadata": {},
   "outputs": [
    {
     "name": "stdout",
     "output_type": "stream",
     "text": [
      "(72, 166)\n",
      "(72, 166)\n",
      "(144, 166)\n"
     ]
    }
   ],
   "source": [
    "print(controls_AAL3_dic_2back_TSs['001'].shape)\n",
    "print(controls_AAL3_dic_0back_TSs['001'].shape)\n",
    "print(controls_AAL3_dic_entire_TSs['001'].shape)"
   ]
  },
  {
   "cell_type": "markdown",
   "metadata": {},
   "source": [
    "## Global intrinsic dimension of cohort space space"
   ]
  },
  {
   "cell_type": "code",
   "execution_count": 40,
   "metadata": {},
   "outputs": [
    {
     "name": "stdout",
     "output_type": "stream",
     "text": [
      "[0.8  0.81 0.82 0.83 0.84 0.85 0.86 0.87 0.88 0.89 0.9  0.91 0.92 0.93\n",
      " 0.94 0.95 0.96 0.97 0.98 0.99]\n",
      "PCA threshold=  0.8\n",
      "[33, 35, 32, 32, 35, 32, 36, 34, 35, 31, 31, 31, 33, 32, 31, 32, 34, 34, 32, 31]\n",
      "[36, 36, 36, 35, 37, 38, 36, 39, 36, 37, 34, 38, 39, 36, 34, 34, 36, 37, 35, 36]\n"
     ]
    },
    {
     "ename": "NameError",
     "evalue": "name 'mannwhitneyu_stat' is not defined",
     "output_type": "error",
     "traceback": [
      "\u001b[0;31m---------------------------------------------------------------------------\u001b[0m",
      "\u001b[0;31mNameError\u001b[0m                                 Traceback (most recent call last)",
      "Cell \u001b[0;32mIn[40], line 48\u001b[0m\n\u001b[1;32m     45\u001b[0m Schaeffer300_pca_GID_patients_0b_std\u001b[38;5;241m.\u001b[39mappend(np\u001b[38;5;241m.\u001b[39mstd(GDim_list_patients))\n\u001b[1;32m     47\u001b[0m     \u001b[38;5;66;03m#t_stat, t_stat_p_value = scipy.stats.ttest_ind(GDim_1, GDim_2)\u001b[39;00m\n\u001b[0;32m---> 48\u001b[0m MW_pvalue \u001b[38;5;241m=\u001b[39m\u001b[43mmannwhitneyu_stat\u001b[49m(GDim_list_controls, GDim_list_patients)\n\u001b[1;32m     49\u001b[0m p_value_Schaeffer300_0b_controls_vs_patients\u001b[38;5;241m.\u001b[39mappend(MW_pvalue)\n\u001b[1;32m     50\u001b[0m \u001b[38;5;66;03m# if MW_pvalue <= 0.05 :\u001b[39;00m\n\u001b[1;32m     51\u001b[0m \u001b[38;5;66;03m#     print(\"@@@@@@@@@@@@@\")\u001b[39;00m\n\u001b[1;32m     52\u001b[0m     \u001b[38;5;66;03m#print('threshold= ', perc, 'p-value= ', MW_pvalue)\u001b[39;00m\n",
      "\u001b[0;31mNameError\u001b[0m: name 'mannwhitneyu_stat' is not defined"
     ]
    }
   ],
   "source": [
    "#Schaeffer300 0-back G-PCA patient vs controls \n",
    "percentage_list= np.linspace(0.8,0.99,20)\n",
    "print(percentage_list)\n",
    "bootstrap_seed_list= [12,85,45,96,98,65,44,9,85,21,174,762,228,111,764,224,601,381,55,100]\n",
    "N_PCA= 8 #10\n",
    "\n",
    "Schaeffer300_pca_GID_controls_0b_mean= []\n",
    "Schaeffer300_pca_GID_controls_0b_std= []\n",
    "\n",
    "Schaeffer300_pca_GID_patients_0b_mean= []\n",
    "Schaeffer300_pca_GID_patients_0b_std= []\n",
    "\n",
    "p_value_Schaeffer300_0b_controls_vs_patients= []\n",
    "\n",
    "\n",
    "for perc in percentage_list:\n",
    "    print(\"PCA threshold= \", perc)\n",
    "    #controls\n",
    "    GDim_list_controls= []\n",
    "    for seedd in bootstrap_seed_list:\n",
    "        small_dic= dictionary_random_reducer(controls_Schaeffer300_dic_0back_TSs, seedd, N_PCA)\n",
    "        selected_data_set= TS_dic_to_NLDR_format(small_dic,N_PCA)\n",
    "        GDim= estimate_global_dimension_pca(selected_data_set,perc)\n",
    "        #print(selected_data_set.shape)\n",
    "        #print(GDim)\n",
    "        GDim_list_controls.append(GDim)\n",
    "    print(GDim_list_controls)\n",
    "    GDim_list= np.array(GDim_list_controls)\n",
    "    Schaeffer300_pca_GID_controls_0b_mean.append(np.mean(GDim_list_controls))\n",
    "    Schaeffer300_pca_GID_controls_0b_std.append(np.std(GDim_list_controls))\n",
    "\n",
    "    #patients\n",
    "    GDim_list_patients= []\n",
    "    for seedd in bootstrap_seed_list:\n",
    "        small_dic= dictionary_random_reducer(patients_Schaeffer300_dic_0back_TSs, seedd, N_PCA)\n",
    "        selected_data_set= TS_dic_to_NLDR_format(small_dic,N_PCA)\n",
    "        GDim= estimate_global_dimension_pca(selected_data_set,perc)\n",
    "        #print(selected_data_set.shape)\n",
    "        #print(GDim)\n",
    "        GDim_list_patients.append(GDim)\n",
    "    \n",
    "    print(GDim_list_patients)\n",
    "    GDim_list_patients= np.array(GDim_list_patients)\n",
    "    Schaeffer300_pca_GID_patients_0b_mean.append(np.mean(GDim_list_patients))\n",
    "    Schaeffer300_pca_GID_patients_0b_std.append(np.std(GDim_list_patients))\n",
    "\n",
    "        #t_stat, t_stat_p_value = scipy.stats.ttest_ind(GDim_1, GDim_2)\n",
    "    MW_pvalue =mannwhitneyu_stat(GDim_list_controls, GDim_list_patients)\n",
    "    p_value_Schaeffer300_0b_controls_vs_patients.append(MW_pvalue)\n",
    "    # if MW_pvalue <= 0.05 :\n",
    "    #     print(\"@@@@@@@@@@@@@\")\n",
    "        #print('threshold= ', perc, 'p-value= ', MW_pvalue)\n",
    "\n",
    "\n",
    "\n"
   ]
  },
  {
   "cell_type": "code",
   "execution_count": null,
   "metadata": {},
   "outputs": [
    {
     "name": "stdout",
     "output_type": "stream",
     "text": [
      "(1152, 300)\n",
      "(2304, 300)\n"
     ]
    }
   ],
   "source": []
  },
  {
   "cell_type": "code",
   "execution_count": null,
   "metadata": {},
   "outputs": [
    {
     "name": "stdout",
     "output_type": "stream",
     "text": [
      "[44, 46, 49, 52, 55, 58, 62, 66, 70, 75, 80, 86, 92, 100, 109, 119, 131, 147, 168, 200]\n",
      "[41, 43, 46, 49, 52, 55, 58, 62, 66, 71, 76, 82, 88, 96, 104, 114, 126, 142, 163, 195]\n",
      "[46, 49, 52, 55, 58, 62, 66, 70, 75, 81, 86, 93, 101, 109, 119, 130, 144, 161, 184, 217]\n",
      "[47, 50, 52, 55, 58, 62, 65, 69, 73, 78, 83, 89, 96, 103, 112, 122, 134, 150, 171, 203]\n",
      "[45, 47, 50, 53, 56, 59, 63, 67, 71, 76, 81, 87, 93, 100, 109, 119, 131, 147, 167, 200]\n",
      "[50, 53, 56, 59, 63, 66, 71, 75, 80, 85, 91, 98, 105, 113, 123, 134, 148, 166, 188, 221]\n"
     ]
    }
   ],
   "source": []
  },
  {
   "cell_type": "code",
   "execution_count": null,
   "metadata": {},
   "outputs": [],
   "source": []
  }
 ],
 "metadata": {
  "kernelspec": {
   "display_name": "venv",
   "language": "python",
   "name": "python3"
  },
  "language_info": {
   "codemirror_mode": {
    "name": "ipython",
    "version": 3
   },
   "file_extension": ".py",
   "mimetype": "text/x-python",
   "name": "python",
   "nbconvert_exporter": "python",
   "pygments_lexer": "ipython3",
   "version": "3.12.3"
  }
 },
 "nbformat": 4,
 "nbformat_minor": 2
}
